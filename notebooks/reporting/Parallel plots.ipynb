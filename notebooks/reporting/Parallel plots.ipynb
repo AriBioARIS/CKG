{
 "cells": [
  {
   "cell_type": "code",
   "execution_count": 21,
   "metadata": {
    "scrolled": true
   },
   "outputs": [
    {
     "data": {
      "text/html": [
       "        <script type=\"text/javascript\">\n",
       "        window.PlotlyConfig = {MathJaxConfig: 'local'};\n",
       "        if (window.MathJax) {MathJax.Hub.Config({SVG: {font: \"STIX-Web\"}});}\n",
       "        if (typeof require !== 'undefined') {\n",
       "        require.undef(\"plotly\");\n",
       "        requirejs.config({\n",
       "            paths: {\n",
       "                'plotly': ['https://cdn.plot.ly/plotly-latest.min']\n",
       "            }\n",
       "        });\n",
       "        require(['plotly'], function(Plotly) {\n",
       "            window._Plotly = Plotly;\n",
       "        });\n",
       "        }\n",
       "        </script>\n",
       "        "
      ]
     },
     "metadata": {},
     "output_type": "display_data"
    }
   ],
   "source": [
    "import pandas as pd\n",
    "from report_manager import project, dataset, report, analyses, plots\n",
    "import networkx as nx\n",
    "from networkx.readwrite import json_graph\n",
    "from plotly.offline import init_notebook_mode, iplot\n",
    "import plotly.graph_objs as go\n",
    "from scipy.stats import zscore\n",
    "init_notebook_mode(connected=True)\n",
    "%matplotlib inline\n",
    "import ipywidgets as widgets\n",
    "from ipywidgets import interact, interact_manual\n",
    "\n",
    "import warnings\n",
    "warnings.filterwarnings('ignore')\n",
    "import logging\n",
    "logger = logging.getLogger()\n",
    "logger.setLevel(logging.CRITICAL)"
   ]
  },
  {
   "cell_type": "code",
   "execution_count": 2,
   "metadata": {
    "scrolled": false
   },
   "outputs": [],
   "source": [
    "my_project = project.Project(identifier='P0000001', datasets=None, report={})"
   ]
  },
  {
   "cell_type": "code",
   "execution_count": 3,
   "metadata": {},
   "outputs": [],
   "source": [
    "proteomics_dataset = my_project.get_dataset('proteomics')"
   ]
  },
  {
   "cell_type": "code",
   "execution_count": 4,
   "metadata": {},
   "outputs": [
    {
     "data": {
      "text/plain": [
       "dict_keys(['multiomics', 'clinical', 'proteomics'])"
      ]
     },
     "execution_count": 4,
     "metadata": {},
     "output_type": "execute_result"
    }
   ],
   "source": [
    "my_project.list_datasets()"
   ]
  },
  {
   "cell_type": "code",
   "execution_count": 5,
   "metadata": {},
   "outputs": [
    {
     "data": {
      "text/plain": [
       "['bootstrap-coupled estimation dabest',\n",
       " 'correlation correlation',\n",
       " 'go annotation',\n",
       " 'number of modified proteins',\n",
       " 'number of peptides',\n",
       " 'number of proteins',\n",
       " 'original',\n",
       " 'pathway annotation',\n",
       " 'processed',\n",
       " 'protein biomarkers',\n",
       " 'regulated',\n",
       " 'regulation table']"
      ]
     },
     "execution_count": 5,
     "metadata": {},
     "output_type": "execute_result"
    }
   ],
   "source": [
    "my_project.get_dataset('proteomics').list_dataframes()"
   ]
  },
  {
   "cell_type": "code",
   "execution_count": 6,
   "metadata": {},
   "outputs": [],
   "source": [
    "proteomics_dataset = my_project.get_dataset('proteomics')\n",
    "processed_df = proteomics_dataset.get_dataframe('processed')"
   ]
  },
  {
   "cell_type": "code",
   "execution_count": 7,
   "metadata": {},
   "outputs": [
    {
     "data": {
      "text/html": [
       "<div>\n",
       "<style scoped>\n",
       "    .dataframe tbody tr th:only-of-type {\n",
       "        vertical-align: middle;\n",
       "    }\n",
       "\n",
       "    .dataframe tbody tr th {\n",
       "        vertical-align: top;\n",
       "    }\n",
       "\n",
       "    .dataframe thead th {\n",
       "        text-align: right;\n",
       "    }\n",
       "</style>\n",
       "<table border=\"1\" class=\"dataframe\">\n",
       "  <thead>\n",
       "    <tr style=\"text-align: right;\">\n",
       "      <th></th>\n",
       "      <th>A2M~P01023</th>\n",
       "      <th>A30~A2MYE2</th>\n",
       "      <th>ABI3BP~Q7Z7G0</th>\n",
       "      <th>ACTB~P60709</th>\n",
       "      <th>ACTN1~P12814</th>\n",
       "      <th>ADAMTS13~Q76LX8</th>\n",
       "      <th>ADH4~P08319</th>\n",
       "      <th>AFM~P43652</th>\n",
       "      <th>AGT~P01019</th>\n",
       "      <th>AHSG~P02765</th>\n",
       "      <th>...</th>\n",
       "      <th>~Q9UL83</th>\n",
       "      <th>~Q9UL86</th>\n",
       "      <th>~Q9UL89</th>\n",
       "      <th>~Q9UL90</th>\n",
       "      <th>~Q9UL94</th>\n",
       "      <th>~S6B294</th>\n",
       "      <th>~S6BAM6</th>\n",
       "      <th>~S6BAR0</th>\n",
       "      <th>~S6BGE9</th>\n",
       "      <th>~S6C4R7</th>\n",
       "    </tr>\n",
       "  </thead>\n",
       "  <tbody>\n",
       "    <tr>\n",
       "      <th>0</th>\n",
       "      <td>38.005564</td>\n",
       "      <td>28.173504</td>\n",
       "      <td>21.855967</td>\n",
       "      <td>27.090330</td>\n",
       "      <td>25.039968</td>\n",
       "      <td>24.010605</td>\n",
       "      <td>23.389032</td>\n",
       "      <td>32.775470</td>\n",
       "      <td>31.758752</td>\n",
       "      <td>33.336045</td>\n",
       "      <td>...</td>\n",
       "      <td>30.775725</td>\n",
       "      <td>27.987610</td>\n",
       "      <td>28.499335</td>\n",
       "      <td>30.777842</td>\n",
       "      <td>27.099789</td>\n",
       "      <td>25.691257</td>\n",
       "      <td>25.808454</td>\n",
       "      <td>27.727998</td>\n",
       "      <td>25.699741</td>\n",
       "      <td>29.907056</td>\n",
       "    </tr>\n",
       "    <tr>\n",
       "      <th>1</th>\n",
       "      <td>37.309118</td>\n",
       "      <td>27.981907</td>\n",
       "      <td>27.342062</td>\n",
       "      <td>27.461155</td>\n",
       "      <td>25.896268</td>\n",
       "      <td>24.135818</td>\n",
       "      <td>22.148706</td>\n",
       "      <td>32.667632</td>\n",
       "      <td>31.857234</td>\n",
       "      <td>33.492260</td>\n",
       "      <td>...</td>\n",
       "      <td>29.316590</td>\n",
       "      <td>27.223798</td>\n",
       "      <td>28.161442</td>\n",
       "      <td>25.822550</td>\n",
       "      <td>27.854599</td>\n",
       "      <td>26.397396</td>\n",
       "      <td>25.672685</td>\n",
       "      <td>27.825901</td>\n",
       "      <td>25.142581</td>\n",
       "      <td>28.994235</td>\n",
       "    </tr>\n",
       "    <tr>\n",
       "      <th>2</th>\n",
       "      <td>37.384952</td>\n",
       "      <td>28.857627</td>\n",
       "      <td>21.290405</td>\n",
       "      <td>27.929764</td>\n",
       "      <td>24.295225</td>\n",
       "      <td>24.121788</td>\n",
       "      <td>23.017163</td>\n",
       "      <td>32.798461</td>\n",
       "      <td>31.952826</td>\n",
       "      <td>33.477498</td>\n",
       "      <td>...</td>\n",
       "      <td>30.997052</td>\n",
       "      <td>27.013292</td>\n",
       "      <td>29.028400</td>\n",
       "      <td>28.612315</td>\n",
       "      <td>26.334802</td>\n",
       "      <td>25.862015</td>\n",
       "      <td>26.322769</td>\n",
       "      <td>27.174838</td>\n",
       "      <td>26.070833</td>\n",
       "      <td>29.526754</td>\n",
       "    </tr>\n",
       "    <tr>\n",
       "      <th>3</th>\n",
       "      <td>38.417225</td>\n",
       "      <td>28.978380</td>\n",
       "      <td>25.501910</td>\n",
       "      <td>27.152479</td>\n",
       "      <td>25.231288</td>\n",
       "      <td>24.568309</td>\n",
       "      <td>26.388112</td>\n",
       "      <td>32.772464</td>\n",
       "      <td>31.740090</td>\n",
       "      <td>33.829414</td>\n",
       "      <td>...</td>\n",
       "      <td>30.911708</td>\n",
       "      <td>27.486311</td>\n",
       "      <td>29.887553</td>\n",
       "      <td>30.217247</td>\n",
       "      <td>27.100391</td>\n",
       "      <td>26.908390</td>\n",
       "      <td>27.385909</td>\n",
       "      <td>27.731448</td>\n",
       "      <td>25.825052</td>\n",
       "      <td>29.565273</td>\n",
       "    </tr>\n",
       "    <tr>\n",
       "      <th>4</th>\n",
       "      <td>37.471303</td>\n",
       "      <td>28.748744</td>\n",
       "      <td>21.352688</td>\n",
       "      <td>27.537048</td>\n",
       "      <td>22.392992</td>\n",
       "      <td>24.961173</td>\n",
       "      <td>24.339540</td>\n",
       "      <td>31.436090</td>\n",
       "      <td>32.167194</td>\n",
       "      <td>33.276558</td>\n",
       "      <td>...</td>\n",
       "      <td>30.821225</td>\n",
       "      <td>28.434917</td>\n",
       "      <td>30.159666</td>\n",
       "      <td>29.399582</td>\n",
       "      <td>26.677209</td>\n",
       "      <td>26.128864</td>\n",
       "      <td>25.733994</td>\n",
       "      <td>27.593356</td>\n",
       "      <td>27.354369</td>\n",
       "      <td>29.774909</td>\n",
       "    </tr>\n",
       "  </tbody>\n",
       "</table>\n",
       "<p>5 rows × 432 columns</p>\n",
       "</div>"
      ],
      "text/plain": [
       "   A2M~P01023  A30~A2MYE2  ABI3BP~Q7Z7G0  ACTB~P60709  ACTN1~P12814  \\\n",
       "0   38.005564   28.173504      21.855967    27.090330     25.039968   \n",
       "1   37.309118   27.981907      27.342062    27.461155     25.896268   \n",
       "2   37.384952   28.857627      21.290405    27.929764     24.295225   \n",
       "3   38.417225   28.978380      25.501910    27.152479     25.231288   \n",
       "4   37.471303   28.748744      21.352688    27.537048     22.392992   \n",
       "\n",
       "   ADAMTS13~Q76LX8  ADH4~P08319  AFM~P43652  AGT~P01019  AHSG~P02765  ...  \\\n",
       "0        24.010605    23.389032   32.775470   31.758752    33.336045  ...   \n",
       "1        24.135818    22.148706   32.667632   31.857234    33.492260  ...   \n",
       "2        24.121788    23.017163   32.798461   31.952826    33.477498  ...   \n",
       "3        24.568309    26.388112   32.772464   31.740090    33.829414  ...   \n",
       "4        24.961173    24.339540   31.436090   32.167194    33.276558  ...   \n",
       "\n",
       "     ~Q9UL83    ~Q9UL86    ~Q9UL89    ~Q9UL90    ~Q9UL94    ~S6B294  \\\n",
       "0  30.775725  27.987610  28.499335  30.777842  27.099789  25.691257   \n",
       "1  29.316590  27.223798  28.161442  25.822550  27.854599  26.397396   \n",
       "2  30.997052  27.013292  29.028400  28.612315  26.334802  25.862015   \n",
       "3  30.911708  27.486311  29.887553  30.217247  27.100391  26.908390   \n",
       "4  30.821225  28.434917  30.159666  29.399582  26.677209  26.128864   \n",
       "\n",
       "     ~S6BAM6    ~S6BAR0    ~S6BGE9    ~S6C4R7  \n",
       "0  25.808454  27.727998  25.699741  29.907056  \n",
       "1  25.672685  27.825901  25.142581  28.994235  \n",
       "2  26.322769  27.174838  26.070833  29.526754  \n",
       "3  27.385909  27.731448  25.825052  29.565273  \n",
       "4  25.733994  27.593356  27.354369  29.774909  \n",
       "\n",
       "[5 rows x 432 columns]"
      ]
     },
     "execution_count": 7,
     "metadata": {},
     "output_type": "execute_result"
    }
   ],
   "source": [
    "processed_df.head()"
   ]
  },
  {
   "cell_type": "code",
   "execution_count": 8,
   "metadata": {},
   "outputs": [],
   "source": [
    "processed_df = processed_df.drop(['sample', 'subject'], axis=1).set_index('group').apply(zscore).reset_index()"
   ]
  },
  {
   "cell_type": "code",
   "execution_count": 9,
   "metadata": {},
   "outputs": [],
   "source": [
    "proteomics_report = my_project.get_dataset('proteomics').report"
   ]
  },
  {
   "cell_type": "code",
   "execution_count": 10,
   "metadata": {},
   "outputs": [
    {
     "data": {
      "text/plain": [
       "dict_keys(['0_date', '10~stratification_pca~pca', '11~regulation_anova~basicTable', '12~regulation_anova~volcanoplot', '13~bootstrap-coupled estimation_dabest~basicTable', '14~correlation_correlation~network', '15~correlation_correlation~heatmap', '16~interaction_network~network', '17~drug_associations~basicTable', '18~disease_associations~basicTable', '19~literature_associations_publications_abstracts~basicTable', '1~peptides~barplot', '20~literature_associations_publications_abstracts~wordcloud', '21~go_enrichment_regulation_enrichment~basicTable', '22~pathway_enrichment_regulation_enrichment~basicTable', '2~peptides~basicTable', '3~proteins~barplot', '4~proteins~basicTable', '5~modifications~facetplot', '6~modifications~basicTable', '7~ranking_ranking_with_markers~ranking', '8~ranking_ranking_with_markers~basicTable', '9~coefficient_variation_coefficient_of_variation~scatterplot_matrix', 'proteomics_pipeline~cytoscape_network'])"
      ]
     },
     "execution_count": 10,
     "metadata": {},
     "output_type": "execute_result"
    }
   ],
   "source": [
    "proteomics_report.list_plots()"
   ]
  },
  {
   "cell_type": "code",
   "execution_count": 22,
   "metadata": {
    "scrolled": false
   },
   "outputs": [
    {
     "data": {
      "application/vnd.jupyter.widget-view+json": {
       "model_id": "568722a572034ec4907ef42722e6268e",
       "version_major": 2,
       "version_minor": 0
      },
      "text/plain": [
       "Cytoscape(data={'elements': [{'data': {'degree': 2, 'radius': 2, 'color': '#1acf66', 'cluster': 0, 'id': 'APOC…"
      ]
     },
     "metadata": {},
     "output_type": "display_data"
    }
   ],
   "source": [
    "proteomics_report.visualize_plot(environment='notebook', plot_type='14~correlation_correlation~network')"
   ]
  },
  {
   "cell_type": "code",
   "execution_count": 12,
   "metadata": {},
   "outputs": [],
   "source": [
    "correlation_net_dict = proteomics_report.get_plot('14~correlation_correlation~network')[0]"
   ]
  },
  {
   "cell_type": "code",
   "execution_count": 13,
   "metadata": {},
   "outputs": [],
   "source": [
    "correlation_net = json_graph.node_link_graph(correlation_net_dict['net_json'])"
   ]
  },
  {
   "cell_type": "code",
   "execution_count": 14,
   "metadata": {},
   "outputs": [],
   "source": [
    "correlation_df = pd.DataFrame.from_dict(correlation_net.nodes(data=True))\n",
    "correlation_df = correlation_df[0].to_frame().join(correlation_df[1].apply(pd.Series))"
   ]
  },
  {
   "cell_type": "code",
   "execution_count": 15,
   "metadata": {},
   "outputs": [],
   "source": [
    "correlation_df.columns = ['identifier', 'degree', 'radius', 'color', 'cluster']"
   ]
  },
  {
   "cell_type": "code",
   "execution_count": 16,
   "metadata": {},
   "outputs": [],
   "source": [
    "min_val = processed_df._get_numeric_data().min().min().round()\n",
    "max_val = processed_df._get_numeric_data().max().max().round()\n",
    "processed_df = processed_df[list(correlation_df.identifier) + ['group']]"
   ]
  },
  {
   "cell_type": "code",
   "execution_count": 37,
   "metadata": {},
   "outputs": [],
   "source": [
    "from IPython.core.display import display, HTML"
   ]
  },
  {
   "cell_type": "code",
   "execution_count": 38,
   "metadata": {
    "scrolled": false
   },
   "outputs": [
    {
     "data": {
      "application/vnd.jupyter.widget-view+json": {
       "model_id": "54441eb5a49344dd90d70026a35ae32f",
       "version_major": 2,
       "version_minor": 0
      },
      "text/plain": [
       "interactive(children=(Dropdown(description='cluster', options=(0, 1, 2, 3, 4, 5, 6, 7, 8, 9, 10, 11, 12, 13, 1…"
      ]
     },
     "metadata": {},
     "output_type": "display_data"
    }
   ],
   "source": [
    "@interact\n",
    "def plot_parallel_plot(cluster=correlation_df.cluster.unique()):\n",
    "    cluster_colors = dict(zip(correlation_df.cluster, correlation_df.color))\n",
    "    clusters = correlation_df.groupby('cluster')\n",
    "    identifiers = clusters.get_group(cluster)['identifier'].tolist()\n",
    "    title= \"Parallel plot cluster: {}\".format(cluster)\n",
    "    df = processed_df.set_index('group')[identifiers].reset_index()\n",
    "    figure = plots.basicFigures.get_parallel_plot(df, identifier=cluster, args={'color':cluster_colors[cluster], 'group':'group', \n",
    "                                                                          'title':title,\n",
    "                                                                          'zscore':False})\n",
    "    display(HTML(\"<p>{}</p>\".format(\",\".join(identifiers))))\n",
    "    iplot(figure.figure)"
   ]
  },
  {
   "cell_type": "code",
   "execution_count": null,
   "metadata": {},
   "outputs": [],
   "source": [
    "  "
   ]
  }
 ],
 "metadata": {
  "kernelspec": {
   "display_name": "Python 3",
   "language": "python",
   "name": "python3"
  },
  "language_info": {
   "codemirror_mode": {
    "name": "ipython",
    "version": 3
   },
   "file_extension": ".py",
   "mimetype": "text/x-python",
   "name": "python",
   "nbconvert_exporter": "python",
   "pygments_lexer": "ipython3",
   "version": "3.6.8"
  }
 },
 "nbformat": 4,
 "nbformat_minor": 2
}
